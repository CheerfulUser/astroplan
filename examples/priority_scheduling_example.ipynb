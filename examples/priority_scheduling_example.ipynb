{
 "cells": [
  {
   "cell_type": "code",
   "execution_count": 1,
   "metadata": {
    "collapsed": true
   },
   "outputs": [],
   "source": [
    "import numpy as np\n",
    "from matplotlib import pyplot as plt\n",
    "%matplotlib inline"
   ]
  },
  {
   "cell_type": "code",
   "execution_count": 2,
   "metadata": {
    "collapsed": true
   },
   "outputs": [],
   "source": [
    "# if you have made changes to a local copy of astroplan you have changed use:\n",
    "import sys\n",
    "#sys.path.insert(0,'directorypath')\n",
    "sys.path.insert(0,'/home/karl/Astroplan/astroplan/')"
   ]
  },
  {
   "cell_type": "code",
   "execution_count": 3,
   "metadata": {
    "collapsed": false
   },
   "outputs": [],
   "source": [
    "# import the parts of astropy and astroplan needed\n",
    "from astropy import units as u\n",
    "from astropy.coordinates import SkyCoord\n",
    "from astropy.time import Time\n",
    "import astroplan\n",
    "import astroplan.constraints\n",
    "from astroplan import Observer, FixedTarget, ObservingBlock\n",
    "from astroplan import PriorityScheduler, Transitioner\n",
    "from astroplan import plots\n",
    "color_cycle = plots.mplstyles.astropy_mpl_style['axes.color_cycle']"
   ]
  },
  {
   "cell_type": "code",
   "execution_count": 4,
   "metadata": {
    "collapsed": false
   },
   "outputs": [
    {
     "name": "stdout",
     "output_type": "stream",
     "text": [
      "2016-07-28 05:12:20.757045 2016-07-30 05:12:20.757045\n"
     ]
    }
   ],
   "source": [
    "# define the start and end time of the schedule\n",
    "start_time = Time.now()\n",
    "end_time = start_time+48*u.hour\n",
    "print(start_time,end_time)"
   ]
  },
  {
   "cell_type": "code",
   "execution_count": 5,
   "metadata": {
    "collapsed": false
   },
   "outputs": [],
   "source": [
    "# define the observer (in this example we use mdm)\n",
    "mdm = Observer.at_site('mdm')"
   ]
  },
  {
   "cell_type": "code",
   "execution_count": 6,
   "metadata": {
    "collapsed": false
   },
   "outputs": [
    {
     "data": {
      "text/plain": [
       "[<FixedTarget \"Vega\" at SkyCoord (ICRS): (ra, dec) in deg (279.23473479, 38.78368896)>,\n",
       " <FixedTarget \"Deneb\" at SkyCoord (ICRS): (ra, dec) in deg (310.35797975, 45.28033881)>,\n",
       " <FixedTarget \"Arcturus\" at SkyCoord (ICRS): (ra, dec) in deg (213.9153003, 19.18240916)>,\n",
       " <FixedTarget \"Altair\" at SkyCoord (ICRS): (ra, dec) in deg (297.6958273, 8.8683212)>,\n",
       " <FixedTarget \"Aldebaran\" at SkyCoord (ICRS): (ra, dec) in deg (68.98016279, 16.50930235)>,\n",
       " <FixedTarget \"Sirius\" at SkyCoord (ICRS): (ra, dec) in deg (101.28715533, -16.71611586)>,\n",
       " <FixedTarget \"Betelgeuse\" at SkyCoord (ICRS): (ra, dec) in deg (88.79293899, 7.40706399)>,\n",
       " <FixedTarget \"Rigel\" at SkyCoord (ICRS): (ra, dec) in deg (78.63446707, -8.20163837)>,\n",
       " <FixedTarget \"Castor\" at SkyCoord (ICRS): (ra, dec) in deg (113.64947164, 31.88828222)>,\n",
       " <FixedTarget \"Pollux\" at SkyCoord (ICRS): (ra, dec) in deg (116.32895777, 28.02619889)>,\n",
       " <FixedTarget \"Polaris\" at SkyCoord (ICRS): (ra, dec) in deg (37.95456067, 89.26410897)>]"
      ]
     },
     "execution_count": 6,
     "metadata": {},
     "output_type": "execute_result"
    }
   ],
   "source": [
    "# now we create a list of the targets so that we can iterate when making their blocks\n",
    "targets = [FixedTarget.from_name('Vega'),\n",
    "           FixedTarget.from_name('Deneb'),\n",
    "           FixedTarget.from_name('Arcturus'),\n",
    "           FixedTarget.from_name('Altair'),\n",
    "           FixedTarget.from_name('Aldebaran'),\n",
    "           FixedTarget.from_name('Sirius'),\n",
    "           FixedTarget.from_name('Betelgeuse'),\n",
    "           FixedTarget.from_name('Rigel'),\n",
    "           FixedTarget.from_name('Castor'),\n",
    "           FixedTarget.from_name('Pollux'),\n",
    "           FixedTarget.from_name('Polaris')\n",
    "          ]\n",
    "targets"
   ]
  },
  {
   "cell_type": "code",
   "execution_count": 7,
   "metadata": {
    "collapsed": false
   },
   "outputs": [],
   "source": [
    "# an observing block requires a target, a duration, and a priority\n",
    "# this uses .from_exposures to input exposure time, read-out time,\n",
    "# and the number of exposures as the duration\n",
    "etime = 5*u.min\n",
    "n = 10\n",
    "rot = 55*u.second\n",
    "# Constraints can also be added to the ObservingBlock:\n",
    "constraint = [astroplan.constraints.AtNightConstraint()]\n",
    "# The scheduler needs a list of blocks:\n",
    "blocks = []\n",
    "for i,t in enumerate(targets):\n",
    "    #i is used as the priority in this case\n",
    "    blocks.append(ObservingBlock.from_exposures(t, i, etime, n, rot, constraints = constraint))"
   ]
  },
  {
   "cell_type": "code",
   "execution_count": 8,
   "metadata": {
    "collapsed": false
   },
   "outputs": [],
   "source": [
    "# constraints that apply to every ObservingBlock can also be given directly to the Scheduler\n",
    "global_constraints = [astroplan.constraints.AirmassConstraint(3, boolean_constraint=False)]\n",
    "# Soon, this should be able to handle a vector input (e.g. AirmassConstraint([3,3,3,3,2,2,3,3,3,2,2]))\n",
    "\n",
    "# define how long it takes the telescope to transition (e.g. 1 degree/second)\n",
    "trans = Transitioner(slew_rate=1*u.deg/u.second)"
   ]
  },
  {
   "cell_type": "code",
   "execution_count": null,
   "metadata": {
    "collapsed": false,
    "scrolled": true
   },
   "outputs": [
    {
     "name": "stdout",
     "output_type": "stream",
     "text": [
      "could not schedule Sirius\n",
      "could not schedule Betelgeuse\n",
      "could not schedule Rigel\n",
      "could not schedule Castor\n",
      "could not schedule Pollux\n"
     ]
    },
    {
     "data": {
      "text/html": [
       "&lt;Table length=18&gt;\n",
       "<table id=\"table139621164693992-858065\" class=\"table-striped table-bordered table-condensed\">\n",
       "<thead><tr><th>idx</th><th>target</th><th>start time (UTC)</th><th>end time (UTC)</th><th>duration (minutes)</th><th>ra</th><th>dec</th></tr></thead>\n",
       "<tr><td>0</td><td>Unused Time</td><td>2016-07-28 05:12:20.757</td><td>2016-07-28 07:03:00.761</td><td>110.666734355</td><td></td><td></td></tr>\n",
       "<tr><td>1</td><td>Deneb</td><td>2016-07-28 07:03:00.761</td><td>2016-07-28 08:03:00.761</td><td>60.0</td><td>310d21m28.7271s</td><td>45d16m49.2197s</td></tr>\n",
       "<tr><td>2</td><td>TransitionBlock</td><td>2016-07-28 08:03:00.761</td><td>2016-07-28 08:04:00.761</td><td>1.0</td><td></td><td></td></tr>\n",
       "<tr><td>3</td><td>Unused Time</td><td>2016-07-28 08:04:00.761</td><td>2016-07-28 11:24:00.771</td><td>200.000159457</td><td></td><td></td></tr>\n",
       "<tr><td>4</td><td>Polaris</td><td>2016-07-28 11:24:00.771</td><td>2016-07-28 12:24:00.771</td><td>60.0</td><td>37d57m16.4184s</td><td>89d15m50.7923s</td></tr>\n",
       "<tr><td>5</td><td>TransitionBlock</td><td>2016-07-28 12:24:00.771</td><td>2016-07-28 12:25:20.771</td><td>1.33333333333</td><td></td><td></td></tr>\n",
       "<tr><td>6</td><td>Unused Time</td><td>2016-07-28 12:25:20.771</td><td>2016-07-29 02:21:40.804</td><td>836.333881761</td><td></td><td></td></tr>\n",
       "<tr><td>7</td><td>Arcturus</td><td>2016-07-29 02:21:40.804</td><td>2016-07-29 03:21:40.804</td><td>60.0</td><td>213d54m55.0811s</td><td>19d10m56.673s</td></tr>\n",
       "<tr><td>8</td><td>TransitionBlock</td><td>2016-07-29 03:21:40.804</td><td>2016-07-29 03:22:40.804</td><td>1.0</td><td></td><td></td></tr>\n",
       "<tr><td>9</td><td>Unused Time</td><td>2016-07-29 03:22:40.804</td><td>2016-07-29 04:55:00.809</td><td>92.333427012</td><td></td><td></td></tr>\n",
       "<tr><td>10</td><td>Vega</td><td>2016-07-29 04:55:00.809</td><td>2016-07-29 05:55:00.809</td><td>60.0</td><td>279d14m05.0452s</td><td>38d47m01.2802s</td></tr>\n",
       "<tr><td>11</td><td>TransitionBlock</td><td>2016-07-29 05:55:00.809</td><td>2016-07-29 05:55:40.809</td><td>0.666666666667</td><td></td><td></td></tr>\n",
       "<tr><td>12</td><td>Unused Time</td><td>2016-07-29 05:55:40.809</td><td>2016-07-29 06:08:40.812</td><td>13.0000450065</td><td></td><td></td></tr>\n",
       "<tr><td>13</td><td>Altair</td><td>2016-07-29 06:08:40.812</td><td>2016-07-29 07:08:40.812</td><td>60.0</td><td>297d41m44.9783s</td><td>8d52m05.9563s</td></tr>\n",
       "<tr><td>14</td><td>TransitionBlock</td><td>2016-07-29 07:08:40.812</td><td>2016-07-29 07:11:00.812</td><td>2.33333333333</td><td></td><td></td></tr>\n",
       "<tr><td>15</td><td>Unused Time</td><td>2016-07-29 07:11:00.812</td><td>2016-07-29 11:24:40.823</td><td>253.666859726</td><td></td><td></td></tr>\n",
       "<tr><td>16</td><td>Aldebaran</td><td>2016-07-29 11:24:40.823</td><td>2016-07-29 12:24:40.823</td><td>60.0</td><td>68d58m48.586s</td><td>16d30m33.4885s</td></tr>\n",
       "<tr><td>17</td><td>Unused Time</td><td>2016-07-29 12:24:40.823</td><td>2016-07-30 05:12:20.757</td><td>1007.66555935</td><td></td><td></td></tr>\n",
       "</table><style>table.dataTable {clear: both; width: auto !important; margin: 0 !important;}\n",
       ".dataTables_info, .dataTables_length, .dataTables_filter, .dataTables_paginate{\n",
       "display: inline-block; margin-right: 1em; }\n",
       ".paginate_button { margin-right: 5px; }\n",
       "</style>\n",
       "<script>\n",
       "require.config({paths: {\n",
       "    datatables: 'https://cdn.datatables.net/1.10.9/js/jquery.dataTables.min'\n",
       "}});\n",
       "require([\"datatables\"], function(){\n",
       "    console.log(\"$('#table139621164693992-858065').dataTable()\");\n",
       "    $('#table139621164693992-858065').dataTable({\n",
       "        \"order\": [],\n",
       "        \"iDisplayLength\": 50,\n",
       "        \"aLengthMenu\": [[10, 25, 50, 100, 500, 1000, -1], [10, 25, 50, 100, 500, 1000, 'All']],\n",
       "        \"pagingType\": \"full_numbers\"\n",
       "    });\n",
       "});\n",
       "</script>\n"
      ],
      "text/plain": [
       "<IPython.core.display.HTML object>"
      ]
     },
     "execution_count": 9,
     "metadata": {},
     "output_type": "execute_result"
    }
   ],
   "source": [
    "# The PriorityScheduler schedules the block with priority closest to 0 first\n",
    "# and proceeds according to the priority.\n",
    "# create the scheduler object\n",
    "scheduler = PriorityScheduler(start_time, end_time,transitioner=trans,\n",
    "                              constraints=global_constraints, observer=mdm)\n",
    "# run the scheduler, this scheduler will also print unschedulable targets\n",
    "schedule = scheduler(blocks)\n",
    "# to print a table of the output schedule (showing unused slots):\n",
    "schedule.to_table(show_unused=True).show_in_notebook()"
   ]
  },
  {
   "cell_type": "code",
   "execution_count": null,
   "metadata": {
    "collapsed": false,
    "scrolled": false
   },
   "outputs": [],
   "source": [
    "# We can also plot the airmass of the targets compared to when they were scheduled\n",
    "plt.figure(figsize=(15,10))\n",
    "# show_night makes the graphs much slower, but gives useful information if\n",
    "# \"AtNight\" was a constraint.\n",
    "plots.plot_schedule_airmass(schedule, \n",
    "                            show_night=True\n",
    "                            )"
   ]
  },
  {
   "cell_type": "code",
   "execution_count": null,
   "metadata": {
    "collapsed": false
   },
   "outputs": [],
   "source": []
  },
  {
   "cell_type": "code",
   "execution_count": null,
   "metadata": {
    "collapsed": true
   },
   "outputs": [],
   "source": []
  },
  {
   "cell_type": "code",
   "execution_count": null,
   "metadata": {
    "collapsed": true
   },
   "outputs": [],
   "source": []
  }
 ],
 "metadata": {
  "anaconda-cloud": {},
  "kernelspec": {
   "display_name": "Python [Root]",
   "language": "python",
   "name": "Python [Root]"
  },
  "language_info": {
   "codemirror_mode": {
    "name": "ipython",
    "version": 3
   },
   "file_extension": ".py",
   "mimetype": "text/x-python",
   "name": "python",
   "nbconvert_exporter": "python",
   "pygments_lexer": "ipython3",
   "version": "3.5.2"
  }
 },
 "nbformat": 4,
 "nbformat_minor": 0
}
